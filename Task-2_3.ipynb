{
 "cells": [
  {
   "cell_type": "markdown",
   "id": "89fbff81",
   "metadata": {},
   "source": [
    "###Task 2  and Task 3"
   ]
  },
  {
   "cell_type": "markdown",
   "id": "c7656728",
   "metadata": {},
   "source": [
    "Name: Sai Srujan<br>\n",
    "\n",
    "This notebook covers Task 2 and Task 3 -  Review Sentiment Classification and  Review Helpfulness Classification.<br>\n",
    "In these tasks we assign a class label in each of the tasks to all the reviews accordingly and build classifiers to distinguish the class labels and classify the new unseen reviews. "
   ]
  },
  {
   "cell_type": "code",
   "execution_count": 1,
   "id": "0282ca4b",
   "metadata": {},
   "outputs": [],
   "source": [
    "import numpy as np\n",
    "import pandas as pd\n",
    "from sklearn.feature_extraction.text import CountVectorizer, TfidfTransformer\n",
    "from sklearn.neighbors import KNeighborsClassifier\n",
    "from sklearn.pipeline import Pipeline\n",
    "from sklearn.model_selection import cross_val_score\n",
    "from sklearn.linear_model import SGDClassifier\n",
    "from sklearn.model_selection import train_test_split\n",
    "from sklearn.metrics import accuracy_score, confusion_matrix, ConfusionMatrixDisplay"
   ]
  },
  {
   "cell_type": "markdown",
   "id": "76a070b9",
   "metadata": {},
   "source": [
    "Load the reviews data into a dataframe that was scraped and saved in the Product_Reviews csv from Task1"
   ]
  },
  {
   "cell_type": "code",
   "execution_count": 2,
   "id": "7c39780c",
   "metadata": {},
   "outputs": [],
   "source": [
    "product_reviews = pd.read_csv(\"./Product_Reviews.csv\")"
   ]
  },
  {
   "cell_type": "code",
   "execution_count": 3,
   "id": "b3246dd8",
   "metadata": {},
   "outputs": [
    {
     "data": {
      "text/html": [
       "<div>\n",
       "<style scoped>\n",
       "    .dataframe tbody tr th:only-of-type {\n",
       "        vertical-align: middle;\n",
       "    }\n",
       "\n",
       "    .dataframe tbody tr th {\n",
       "        vertical-align: top;\n",
       "    }\n",
       "\n",
       "    .dataframe thead th {\n",
       "        text-align: right;\n",
       "    }\n",
       "</style>\n",
       "<table border=\"1\" class=\"dataframe\">\n",
       "  <thead>\n",
       "    <tr style=\"text-align: right;\">\n",
       "      <th></th>\n",
       "      <th>rating</th>\n",
       "      <th>title</th>\n",
       "      <th>review_body</th>\n",
       "      <th>helpful_user</th>\n",
       "      <th>total_user</th>\n",
       "    </tr>\n",
       "  </thead>\n",
       "  <tbody>\n",
       "    <tr>\n",
       "      <th>0</th>\n",
       "      <td>5</td>\n",
       "      <td>This filter works PERFECT!</td>\n",
       "      <td>Seriously, I love my Keurig. I love the conven...</td>\n",
       "      <td>472</td>\n",
       "      <td>477</td>\n",
       "    </tr>\n",
       "    <tr>\n",
       "      <th>1</th>\n",
       "      <td>4</td>\n",
       "      <td>This stuff is great for muffins</td>\n",
       "      <td>There's a recipe on the back of the package fo...</td>\n",
       "      <td>17</td>\n",
       "      <td>17</td>\n",
       "    </tr>\n",
       "    <tr>\n",
       "      <th>2</th>\n",
       "      <td>1</td>\n",
       "      <td>Curiously awful</td>\n",
       "      <td>Cola is by far my favorite drink. My wife and ...</td>\n",
       "      <td>1</td>\n",
       "      <td>14</td>\n",
       "    </tr>\n",
       "    <tr>\n",
       "      <th>3</th>\n",
       "      <td>1</td>\n",
       "      <td>Rancid!</td>\n",
       "      <td>I love chia, but I have gotten two different p...</td>\n",
       "      <td>23</td>\n",
       "      <td>26</td>\n",
       "    </tr>\n",
       "    <tr>\n",
       "      <th>4</th>\n",
       "      <td>1</td>\n",
       "      <td>They taste like boogers</td>\n",
       "      <td>If you don't like the sound of a salty, vinega...</td>\n",
       "      <td>4</td>\n",
       "      <td>19</td>\n",
       "    </tr>\n",
       "  </tbody>\n",
       "</table>\n",
       "</div>"
      ],
      "text/plain": [
       "   rating                            title  \\\n",
       "0       5       This filter works PERFECT!   \n",
       "1       4  This stuff is great for muffins   \n",
       "2       1                  Curiously awful   \n",
       "3       1                          Rancid!   \n",
       "4       1          They taste like boogers   \n",
       "\n",
       "                                         review_body  helpful_user  total_user  \n",
       "0  Seriously, I love my Keurig. I love the conven...           472         477  \n",
       "1  There's a recipe on the back of the package fo...            17          17  \n",
       "2  Cola is by far my favorite drink. My wife and ...             1          14  \n",
       "3  I love chia, but I have gotten two different p...            23          26  \n",
       "4  If you don't like the sound of a salty, vinega...             4          19  "
      ]
     },
     "execution_count": 3,
     "metadata": {},
     "output_type": "execute_result"
    }
   ],
   "source": [
    "# Displaying the dataframe to check if the data is loaded properly\n",
    "product_reviews.head(5)"
   ]
  },
  {
   "cell_type": "markdown",
   "id": "1a32065c",
   "metadata": {},
   "source": [
    "Create a set of documents from all the reviews by concatenating the review title and review body of each review.<br>\n",
    "This document corpus would be used to train and test the various classfiers."
   ]
  },
  {
   "cell_type": "code",
   "execution_count": 4,
   "id": "81ed2f9f",
   "metadata": {},
   "outputs": [],
   "source": [
    "product_reviews['docs'] = product_reviews['title'] + '. ' + product_reviews['review_body']"
   ]
  },
  {
   "cell_type": "markdown",
   "id": "6422caee",
   "metadata": {},
   "source": [
    "#### Task 2 -  Review Sentiment Classification"
   ]
  },
  {
   "cell_type": "markdown",
   "id": "5023b17c",
   "metadata": {},
   "source": [
    "A review is assigned a class label 'positive' if the rating of a particular review is 4 or 5. If the rating of a review is between 1 to 3, then a class label 'negative' will be assigned to it."
   ]
  },
  {
   "cell_type": "code",
   "execution_count": 5,
   "id": "37fa8373",
   "metadata": {},
   "outputs": [],
   "source": [
    "\"\"\" Creating a column sentiment_label in the product_reviews dataframe and assigning the class labels based on the rating\n",
    " given to a review\"\"\"\n",
    "product_reviews[\"sentiment_label\"] = np.where(product_reviews[\"rating\"]>3,\"postive\",\"negative\")"
   ]
  },
  {
   "cell_type": "code",
   "execution_count": 6,
   "id": "a7cfe4db",
   "metadata": {},
   "outputs": [
    {
     "data": {
      "text/html": [
       "<div>\n",
       "<style scoped>\n",
       "    .dataframe tbody tr th:only-of-type {\n",
       "        vertical-align: middle;\n",
       "    }\n",
       "\n",
       "    .dataframe tbody tr th {\n",
       "        vertical-align: top;\n",
       "    }\n",
       "\n",
       "    .dataframe thead th {\n",
       "        text-align: right;\n",
       "    }\n",
       "</style>\n",
       "<table border=\"1\" class=\"dataframe\">\n",
       "  <thead>\n",
       "    <tr style=\"text-align: right;\">\n",
       "      <th></th>\n",
       "      <th>docs</th>\n",
       "      <th>rating</th>\n",
       "      <th>sentiment_label</th>\n",
       "    </tr>\n",
       "  </thead>\n",
       "  <tbody>\n",
       "    <tr>\n",
       "      <th>0</th>\n",
       "      <td>This filter works PERFECT!. Seriously, I love ...</td>\n",
       "      <td>5</td>\n",
       "      <td>postive</td>\n",
       "    </tr>\n",
       "    <tr>\n",
       "      <th>1</th>\n",
       "      <td>This stuff is great for muffins. There's a rec...</td>\n",
       "      <td>4</td>\n",
       "      <td>postive</td>\n",
       "    </tr>\n",
       "    <tr>\n",
       "      <th>2</th>\n",
       "      <td>Curiously awful. Cola is by far my favorite dr...</td>\n",
       "      <td>1</td>\n",
       "      <td>negative</td>\n",
       "    </tr>\n",
       "    <tr>\n",
       "      <th>3</th>\n",
       "      <td>Rancid!. I love chia, but I have gotten two di...</td>\n",
       "      <td>1</td>\n",
       "      <td>negative</td>\n",
       "    </tr>\n",
       "    <tr>\n",
       "      <th>4</th>\n",
       "      <td>They taste like boogers. If you don't like the...</td>\n",
       "      <td>1</td>\n",
       "      <td>negative</td>\n",
       "    </tr>\n",
       "    <tr>\n",
       "      <th>5</th>\n",
       "      <td>Tasty, plenty of seaweed.. This is good, plain...</td>\n",
       "      <td>5</td>\n",
       "      <td>postive</td>\n",
       "    </tr>\n",
       "    <tr>\n",
       "      <th>6</th>\n",
       "      <td>I wouldn't cook with it, but it may have medic...</td>\n",
       "      <td>3</td>\n",
       "      <td>negative</td>\n",
       "    </tr>\n",
       "    <tr>\n",
       "      <th>7</th>\n",
       "      <td>Orange Blossom Heaven. If you ever want a awes...</td>\n",
       "      <td>5</td>\n",
       "      <td>postive</td>\n",
       "    </tr>\n",
       "    <tr>\n",
       "      <th>8</th>\n",
       "      <td>Omaha cheesecake sampler/ Teresa, ny. I purcha...</td>\n",
       "      <td>5</td>\n",
       "      <td>postive</td>\n",
       "    </tr>\n",
       "    <tr>\n",
       "      <th>9</th>\n",
       "      <td>Tasty and unique. After trying Artisana's Caca...</td>\n",
       "      <td>4</td>\n",
       "      <td>postive</td>\n",
       "    </tr>\n",
       "  </tbody>\n",
       "</table>\n",
       "</div>"
      ],
      "text/plain": [
       "                                                docs  rating sentiment_label\n",
       "0  This filter works PERFECT!. Seriously, I love ...       5         postive\n",
       "1  This stuff is great for muffins. There's a rec...       4         postive\n",
       "2  Curiously awful. Cola is by far my favorite dr...       1        negative\n",
       "3  Rancid!. I love chia, but I have gotten two di...       1        negative\n",
       "4  They taste like boogers. If you don't like the...       1        negative\n",
       "5  Tasty, plenty of seaweed.. This is good, plain...       5         postive\n",
       "6  I wouldn't cook with it, but it may have medic...       3        negative\n",
       "7  Orange Blossom Heaven. If you ever want a awes...       5         postive\n",
       "8  Omaha cheesecake sampler/ Teresa, ny. I purcha...       5         postive\n",
       "9  Tasty and unique. After trying Artisana's Caca...       4         postive"
      ]
     },
     "execution_count": 6,
     "metadata": {},
     "output_type": "execute_result"
    }
   ],
   "source": [
    "# Displaying the top ten rows of the dataframe to check if the class labels are assigned properly\n",
    "product_reviews[['docs', 'rating', 'sentiment_label']].head(10)"
   ]
  },
  {
   "cell_type": "markdown",
   "id": "8c98acd4",
   "metadata": {},
   "source": [
    "To build a classifier for text classification, the documents have to be pre processed to be converted into a suitable numeric representation that can be used by the classifiers to train and test. The pre processing steps inculde tokenization, conversion of all the words into lowercase to maintain consistency, removing stop words, stemming or lemmatisation where the words are trimmed to the root form, filtering the infrequent terms, vectorization and tf-idf weighting. After the pre processing is done for each document a sparse matrix is produced that is in numeric format which can be used by the classifiers for the classification.  "
   ]
  },
  {
   "cell_type": "markdown",
   "id": "10e86535",
   "metadata": {},
   "source": [
    "Building the analyzer of the CountVectorizer to incorporate the PorterStemmer to include it as a part of the text pre processing. The PorterStemmer is used for stemming the words to obtain the root form of the words.<br>\n",
    "To use the stemmer nltk library must be installed.<br>\n",
    "- pip install nltk (or)\n",
    "- conda install nltk\n"
   ]
  },
  {
   "cell_type": "code",
   "execution_count": 7,
   "id": "a570b1c5",
   "metadata": {},
   "outputs": [],
   "source": [
    "from nltk.stem.porter import PorterStemmer\n",
    "porter_stemmer = PorterStemmer()\n",
    "# Build the analyzer of the Countvectorizer\n",
    "analyzer = CountVectorizer().build_analyzer()\n",
    "\n",
    "# This function will be called by the analyzer for every document in the corpus to perform the stemming operation.\n",
    "def stemmer(doc):\n",
    "    return (porter_stemmer.stem(w) for w in analyzer(doc))"
   ]
  },
  {
   "cell_type": "markdown",
   "id": "1269bead",
   "metadata": {},
   "source": [
    "A pipeline is setup with all the pre processing steps and the classifier model using the countVectorizer, TfidfTransformer and the linear SVM classifier"
   ]
  },
  {
   "cell_type": "code",
   "execution_count": 8,
   "id": "656dbc92",
   "metadata": {},
   "outputs": [],
   "source": [
    "\"\"\"\n",
    "CountVectorizer has an analyzer as one of it's parameter which is used to include the stemming as a part of its' processing.\n",
    "The stop_words parameter ensures that it removes all the stop words such as an,the,has,him,etc. which is defined in the \n",
    "list of stop words(removing stop words).\n",
    "The min_df parameter set to 5 ensures that all the terms which appear in less than 5 documents will be \n",
    "ignored.(Filtering the infrequent terms).\n",
    "The CountVectorizer by default converts all the words into lowercase and filters the terms with length < 1.\n",
    "So, with the CountVectorizer, we set up all the pre processing steps required to convert into document term matrix.\n",
    "We, then use the TfidfTransformer, to perform the tf idf weighting to all the terms and make the document term matrix\n",
    "more useful by penalising the most common terms and assigning weights accordingly to the more important terms.\n",
    "\"\"\"\n",
    "SVMPipelineStem = Pipeline([\n",
    "    ('vec', CountVectorizer(analyzer = stemmer, stop_words=\"english\", min_df=5)),\n",
    "    ('tfidf', TfidfTransformer()),\n",
    "    ('clf', SGDClassifier(loss='hinge'))\n",
    "])"
   ]
  },
  {
   "cell_type": "markdown",
   "id": "7bfac71b",
   "metadata": {},
   "source": [
    "A similar pipeline is set up excluding the stemming operation, to compare the performance of the classifier "
   ]
  },
  {
   "cell_type": "code",
   "execution_count": 9,
   "id": "4bb9620d",
   "metadata": {},
   "outputs": [],
   "source": [
    "SVMPipeline = Pipeline([\n",
    "    ('vec', CountVectorizer(stop_words=\"english\", ngram_range=(1, 2), min_df=5)),\n",
    "    ('tfidf', TfidfTransformer()),\n",
    "    ('clf', SGDClassifier(loss='hinge'))\n",
    "])"
   ]
  },
  {
   "cell_type": "code",
   "execution_count": 10,
   "id": "a0aa1d4b",
   "metadata": {},
   "outputs": [],
   "source": [
    "# Split the dataset into training and test sets along with the target labels\n",
    "data_train_t2, data_test_t2, target_train_t2, target_test_t2 = train_test_split(product_reviews['docs'], product_reviews[\"sentiment_label\"], test_size=1/2)"
   ]
  },
  {
   "cell_type": "markdown",
   "id": "24cbfdd7",
   "metadata": {},
   "source": [
    "Fit both the pipelines with the train data and use the test data for the predictions using which the accuracy of the classifier can be determined"
   ]
  },
  {
   "cell_type": "code",
   "execution_count": 11,
   "id": "0f470eab",
   "metadata": {},
   "outputs": [
    {
     "name": "stdout",
     "output_type": "stream",
     "text": [
      "Classification accuracy = 86.07\n"
     ]
    }
   ],
   "source": [
    "# Pipeline with stemming operation\n",
    "SVMPipelineStem.fit(data_train_t2, target_train_t2)\n",
    "predicted = SVMPipelineStem.predict(data_test_t2)\n",
    "print(\"Classification accuracy = %.2f\" % (accuracy_score(target_test_t2, predicted)*100))"
   ]
  },
  {
   "cell_type": "code",
   "execution_count": 12,
   "id": "d889dbc9",
   "metadata": {},
   "outputs": [
    {
     "name": "stdout",
     "output_type": "stream",
     "text": [
      "Classification accuracy = 85.05\n"
     ]
    }
   ],
   "source": [
    "# Pipeline without stemming operation\n",
    "SVMPipeline.fit(data_train_t2, target_train_t2)\n",
    "predicted = SVMPipeline.predict(data_test_t2)\n",
    "print(\"Classification accuracy = %.2f\" % (accuracy_score(target_test_t2, predicted)*100))"
   ]
  },
  {
   "cell_type": "markdown",
   "id": "a71cea78",
   "metadata": {},
   "source": [
    "It can be observed from the above two results, that there is only a slight improvement in the accuracy of the classifier when the stemming operation is performed as the words like 'brand', 'branded' and 'branding' would be reduced to the root form that is 'brand' and then number of similar words used for training the classifier would decrease which would help the classifier to classify the documents more accurately.<br>\n",
    "But when stemming is performed, some of the words would be stemmed that would not make sense and also it can be observed that when we fit and predict the data, it takes longer time when compared to the pipeline without the stemming and it would take even longer time when cross validation is performed. Since, there is only a slight increment in the accuracy and it takes a very long time to pre process, we consider the pipeline without the stemmer and perform cross validation to evaluate the accuracy of the classifier. "
   ]
  },
  {
   "cell_type": "markdown",
   "id": "3e96d5e1",
   "metadata": {},
   "source": [
    "Considering the pipeline without stemming and evaluating the classifier with the hold out strategy where the training and test data is split. The training data only is provided to fit and train the classifier. The test data without the labels is provided to the classifier to evaluate the accuracy of the classifier based on how well it classifies the unseen samples."
   ]
  },
  {
   "cell_type": "code",
   "execution_count": 13,
   "id": "01b85d8f",
   "metadata": {},
   "outputs": [
    {
     "name": "stdout",
     "output_type": "stream",
     "text": [
      "Classification accuracy = 85.05\n"
     ]
    },
    {
     "data": {
      "image/png": "[encoded data removed]",
      "text/plain": [
       "<Figure size 432x288 with 2 Axes>"
      ]
     },
     "metadata": {
      "needs_background": "light"
     },
     "output_type": "display_data"
    }
   ],
   "source": [
    "predicted = SVMPipeline.predict(data_test_t2)\n",
    "print(\"Classification accuracy = %.2f\" % (accuracy_score(target_test_t2, predicted)*100))\n",
    "# calculate the confusion matrix\n",
    "cm = confusion_matrix(target_test_t2, predicted)\n",
    "# displaying the confusion matrix\n",
    "target_categories = [\"positive\",\"negative\"]\n",
    "cmd = ConfusionMatrixDisplay(cm, display_labels=target_categories)\n",
    "cmd.plot();"
   ]
  },
  {
   "cell_type": "markdown",
   "id": "31a974ec",
   "metadata": {},
   "source": [
    "It can be observed from the confusion matrix that the false positive rate is more than the false negative rate. So, the number of positive reviews getting predicted as negative is slighlty more than the negative reviews getting predicted as positive. The accuracy of the classifier is around 85% which illustrates that the classifier is able to classify most of the unseen reviews correctly."
   ]
  },
  {
   "cell_type": "markdown",
   "id": "7347e768",
   "metadata": {},
   "source": [
    "Hold out strategy is a lucky split of data into train and test data. So, the data is randomly split into test and train data and sometimes the test data would have majority of the difficult reviews to classify which would reduce the accuracy of the classifier. Sometimes, there might be majority of easy reviews to classify which would improve the accuracy of the classifier. And also, the train data would not have a great variety of reviews to train the classifier which would reduce the accuracy and vice-versa.<br>\n",
    "In order to ensure we evaluate the classifier properly, we use the cross validation strategy. In the cross validation strategy of 10 folds, the data is split into 10 folds. One fold is used to test the classifier where the rest of the folds are used to train the classifier in each experiment. So, the experiment will be repeated for 10 times with each experiment using a different fold for testing. \n",
    "The accuracy of the classifier is then taken as the average of the accuracies obtained from all the experiments. So this ensures that the accuracy of the classifier is more reliable."
   ]
  },
  {
   "cell_type": "code",
   "execution_count": 14,
   "id": "c818213b",
   "metadata": {},
   "outputs": [
    {
     "name": "stdout",
     "output_type": "stream",
     "text": [
      "Linear Support vector Machine(10 fold cross validation) accuracy: 88.63\n"
     ]
    }
   ],
   "source": [
    "# Running the Linear SVM Classifier pipeline with 10 fold cross validation\n",
    "acc_arr = cross_val_score(SVMPipeline, product_reviews['docs'], product_reviews[\"sentiment_label\"], cv=10, n_jobs = -1)\n",
    "print(\"Linear Support vector Machine(10 fold cross validation) accuracy: %.2f\" % ((sum(acc_arr)/len(acc_arr))*100))"
   ]
  },
  {
   "cell_type": "markdown",
   "id": "aa3b156b",
   "metadata": {},
   "source": [
    "We set up a similar pipeline with all the similar pre processing steps with a KNN classifier with 3 nearest neighbors"
   ]
  },
  {
   "cell_type": "code",
   "execution_count": 15,
   "id": "da2427c7",
   "metadata": {},
   "outputs": [],
   "source": [
    "KNNPipeline = Pipeline([\n",
    "    ('vec', CountVectorizer(stop_words=\"english\", ngram_range=(1, 2), min_df=5)),\n",
    "    ('tfidf', TfidfTransformer()),\n",
    "    ('clf', KNeighborsClassifier(n_neighbors=3))\n",
    "])"
   ]
  },
  {
   "cell_type": "markdown",
   "id": "78dc1d25",
   "metadata": {},
   "source": [
    "We fit the KNN pipeline with the same train data, so we can compare the accuracy of the classifier when same data is used for training and testing the classifier"
   ]
  },
  {
   "cell_type": "code",
   "execution_count": 16,
   "id": "02105a20",
   "metadata": {},
   "outputs": [
    {
     "data": {
      "text/plain": [
       "Pipeline(steps=[('vec',\n",
       "                 CountVectorizer(min_df=5, ngram_range=(1, 2),\n",
       "                                 stop_words='english')),\n",
       "                ('tfidf', TfidfTransformer()),\n",
       "                ('clf', KNeighborsClassifier(n_neighbors=3))])"
      ]
     },
     "execution_count": 16,
     "metadata": {},
     "output_type": "execute_result"
    }
   ],
   "source": [
    "KNNPipeline.fit(data_train_t2, target_train_t2)"
   ]
  },
  {
   "cell_type": "markdown",
   "id": "f34b22f1",
   "metadata": {},
   "source": [
    "Similarly, like we did for the previous classifier we train and test the pipeline using the hold out strategy evaluation."
   ]
  },
  {
   "cell_type": "code",
   "execution_count": 17,
   "id": "3948646d",
   "metadata": {},
   "outputs": [
    {
     "name": "stdout",
     "output_type": "stream",
     "text": [
      "Classification accuracy = 72.44\n"
     ]
    },
    {
     "data": {
      "image/png": "[encoded data removed]",
      "text/plain": [
       "<Figure size 432x288 with 2 Axes>"
      ]
     },
     "metadata": {
      "needs_background": "light"
     },
     "output_type": "display_data"
    }
   ],
   "source": [
    "predicted = KNNPipeline.predict(data_test_t2)\n",
    "print(\"Classification accuracy = %.2f\" % (accuracy_score(target_test_t2, predicted)*100))\n",
    "# calculate the confusion matrix\n",
    "cm = confusion_matrix(target_test_t2, predicted)\n",
    "# display the confusion matrix\n",
    "target_categories = [\"positive\",\"negative\"]\n",
    "cmd = ConfusionMatrixDisplay(cm, display_labels=target_categories)\n",
    "cmd.plot();"
   ]
  },
  {
   "cell_type": "markdown",
   "id": "e1e07870",
   "metadata": {},
   "source": [
    "It can be observed from the confusion matrix that the false positive rate is slightly more than the false negative rate for the KNN classifier. So, the number of positive reviews getting predicted as negative reviews is more than the number of negative reviews getting predicted as positive. The accuracy of the classifier is around 72%."
   ]
  },
  {
   "cell_type": "markdown",
   "id": "afadfbe2",
   "metadata": {},
   "source": [
    "Even this classifier pipeline is evaluated using the 10 fold cross validation strategy to obtain the average accuracy of the classifier."
   ]
  },
  {
   "cell_type": "code",
   "execution_count": 18,
   "id": "37fe3133",
   "metadata": {},
   "outputs": [
    {
     "name": "stdout",
     "output_type": "stream",
     "text": [
      "K-Nearest Neighbors(n=3)(10 fold cross validation) accuracy: 74.64\n"
     ]
    }
   ],
   "source": [
    "# Running the KNN Classifier pipeline with 10 fold cross validation\n",
    "acc_arr = cross_val_score(KNNPipeline, product_reviews['docs'], product_reviews[\"sentiment_label\"], cv=10, n_jobs = -1)\n",
    "print(\"K-Nearest Neighbors(n=3)(10 fold cross validation) accuracy: %.2f\" % ((sum(acc_arr)/len(acc_arr))*100))"
   ]
  },
  {
   "cell_type": "markdown",
   "id": "a34f2250",
   "metadata": {},
   "source": [
    "The SGDClassifier when the loss property is set to hinge gives linear SVM classifier. The Support Vector Machine algorithm is a supervised learning algorithm for classification. The SVM classifier defines a hyperplane from the training data to determine and separate the various categories of class labels being predicted. The hyperplane is decided based on the support vectors which is a subset of the training data.  So, the SGDClassifier implements the hyperplane similarly when the loss function is set and predicts the labels for the unseen data. The SGDClassifier works well for data which is sparse and also performs well even if the amount of data and the number of features are huge.<br>\n",
    "\n",
    "K-Nearest Neighbors(KNN) algorithm is also a supervised machine learning classification algorithm. The KNN algorithm classifies the unseen data into various categories based on the number of nearest neighbors that are similar to the data. So, the number of nearest neighbors plays a major role in KNN algorithm. The new data will be assigned a class label which is the majority of the k nearest neighbors.( Ex: If k is 3 and 2 neighbors are positive and one neighbor is negative, then the new data will be assigned a class label positive).<br>\n",
    "\n",
    "It can be observed from the above results that the linear Support Vector Machine(SVM) classifier has more accuracy than the K-Nearest Neighbor classifier. The linear SVM classifer has an accuracy of around 89% and the KNN classifier has an accuracy of around 75% obtained from cross validation in both the cases.<br>\n",
    "\n",
    "The text pre processing step involves converting the textual data into a numeric representation. It is converted into a document term matrix with the tf-idf weighting for each of the terms in the document corpus. The document term matrix is a very huge sparse matrix. Since,the linear SVM classifier works well on huge sparse matrix, it can be observed that a good accuracy is obtained by the classifier for classifying the reviews as positive and negative. The number of features in the sparse matrix is also very huge as there will be a lot of terms in the document corpus and since SGDClassifier performs well on huge number of features, this classfier works well for text classification.\n",
    "\n",
    "The KNN classifier on the other hand has comparitively less accuracy than that of the linear SVM classifier as the KNN classifier classifies the reviews based on how similar the terms in the review are compared to the new review being classified. As, the train data is a very huge sparse matrix and consists of a lot of terms, there can be neighbors which have similar terms but are of different categories which makes it difficult for the KNN classifier to classify some of the reviews accurately and hence the overall accuracy is less compared to the linear SVM classifier."
   ]
  },
  {
   "cell_type": "markdown",
   "id": "162bbb04",
   "metadata": {},
   "source": [
    "#### Task 3 -  Review Helpfulness Classification"
   ]
  },
  {
   "cell_type": "markdown",
   "id": "27cc2c2e",
   "metadata": {},
   "source": [
    "A review is assigned a class label 'helpful' and 'unhelpful' based on a threshold value. If the number of users who have voted the review as helpful divided by the total number of users who have voted the review is greater than 0.75, the review will be assigned a class label 'helpful'. <br>\n",
    "If the value calculated is less than 0.75 then the review will be assigned a class label 'unhelpful'"
   ]
  },
  {
   "cell_type": "code",
   "execution_count": 19,
   "id": "1fa001a8",
   "metadata": {},
   "outputs": [],
   "source": [
    "\"\"\" Creating a column help_label in the product_reviews dataframe and assigning the class labels based on the helpfulness\n",
    "information of a review\"\"\"\n",
    "product_reviews[\"help_label\"] = np.where((product_reviews[\"helpful_user\"]/product_reviews[\"total_user\"])>0.75,\"helpful\",\"unhelpful\")"
   ]
  },
  {
   "cell_type": "code",
   "execution_count": 20,
   "id": "8dd8ef57",
   "metadata": {},
   "outputs": [
    {
     "data": {
      "text/html": [
       "<div>\n",
       "<style scoped>\n",
       "    .dataframe tbody tr th:only-of-type {\n",
       "        vertical-align: middle;\n",
       "    }\n",
       "\n",
       "    .dataframe tbody tr th {\n",
       "        vertical-align: top;\n",
       "    }\n",
       "\n",
       "    .dataframe thead th {\n",
       "        text-align: right;\n",
       "    }\n",
       "</style>\n",
       "<table border=\"1\" class=\"dataframe\">\n",
       "  <thead>\n",
       "    <tr style=\"text-align: right;\">\n",
       "      <th></th>\n",
       "      <th>docs</th>\n",
       "      <th>helpful_user</th>\n",
       "      <th>total_user</th>\n",
       "      <th>help_label</th>\n",
       "    </tr>\n",
       "  </thead>\n",
       "  <tbody>\n",
       "    <tr>\n",
       "      <th>0</th>\n",
       "      <td>This filter works PERFECT!. Seriously, I love ...</td>\n",
       "      <td>472</td>\n",
       "      <td>477</td>\n",
       "      <td>helpful</td>\n",
       "    </tr>\n",
       "    <tr>\n",
       "      <th>1</th>\n",
       "      <td>This stuff is great for muffins. There's a rec...</td>\n",
       "      <td>17</td>\n",
       "      <td>17</td>\n",
       "      <td>helpful</td>\n",
       "    </tr>\n",
       "    <tr>\n",
       "      <th>2</th>\n",
       "      <td>Curiously awful. Cola is by far my favorite dr...</td>\n",
       "      <td>1</td>\n",
       "      <td>14</td>\n",
       "      <td>unhelpful</td>\n",
       "    </tr>\n",
       "    <tr>\n",
       "      <th>3</th>\n",
       "      <td>Rancid!. I love chia, but I have gotten two di...</td>\n",
       "      <td>23</td>\n",
       "      <td>26</td>\n",
       "      <td>helpful</td>\n",
       "    </tr>\n",
       "    <tr>\n",
       "      <th>4</th>\n",
       "      <td>They taste like boogers. If you don't like the...</td>\n",
       "      <td>4</td>\n",
       "      <td>19</td>\n",
       "      <td>unhelpful</td>\n",
       "    </tr>\n",
       "    <tr>\n",
       "      <th>5</th>\n",
       "      <td>Tasty, plenty of seaweed.. This is good, plain...</td>\n",
       "      <td>12</td>\n",
       "      <td>12</td>\n",
       "      <td>helpful</td>\n",
       "    </tr>\n",
       "    <tr>\n",
       "      <th>6</th>\n",
       "      <td>I wouldn't cook with it, but it may have medic...</td>\n",
       "      <td>3</td>\n",
       "      <td>20</td>\n",
       "      <td>unhelpful</td>\n",
       "    </tr>\n",
       "    <tr>\n",
       "      <th>7</th>\n",
       "      <td>Orange Blossom Heaven. If you ever want a awes...</td>\n",
       "      <td>11</td>\n",
       "      <td>12</td>\n",
       "      <td>helpful</td>\n",
       "    </tr>\n",
       "    <tr>\n",
       "      <th>8</th>\n",
       "      <td>Omaha cheesecake sampler/ Teresa, ny. I purcha...</td>\n",
       "      <td>17</td>\n",
       "      <td>17</td>\n",
       "      <td>helpful</td>\n",
       "    </tr>\n",
       "    <tr>\n",
       "      <th>9</th>\n",
       "      <td>Tasty and unique. After trying Artisana's Caca...</td>\n",
       "      <td>17</td>\n",
       "      <td>17</td>\n",
       "      <td>helpful</td>\n",
       "    </tr>\n",
       "  </tbody>\n",
       "</table>\n",
       "</div>"
      ],
      "text/plain": [
       "                                                docs  helpful_user  \\\n",
       "0  This filter works PERFECT!. Seriously, I love ...           472   \n",
       "1  This stuff is great for muffins. There's a rec...            17   \n",
       "2  Curiously awful. Cola is by far my favorite dr...             1   \n",
       "3  Rancid!. I love chia, but I have gotten two di...            23   \n",
       "4  They taste like boogers. If you don't like the...             4   \n",
       "5  Tasty, plenty of seaweed.. This is good, plain...            12   \n",
       "6  I wouldn't cook with it, but it may have medic...             3   \n",
       "7  Orange Blossom Heaven. If you ever want a awes...            11   \n",
       "8  Omaha cheesecake sampler/ Teresa, ny. I purcha...            17   \n",
       "9  Tasty and unique. After trying Artisana's Caca...            17   \n",
       "\n",
       "   total_user help_label  \n",
       "0         477    helpful  \n",
       "1          17    helpful  \n",
       "2          14  unhelpful  \n",
       "3          26    helpful  \n",
       "4          19  unhelpful  \n",
       "5          12    helpful  \n",
       "6          20  unhelpful  \n",
       "7          12    helpful  \n",
       "8          17    helpful  \n",
       "9          17    helpful  "
      ]
     },
     "execution_count": 20,
     "metadata": {},
     "output_type": "execute_result"
    }
   ],
   "source": [
    "# Displaying the top ten rows of the dataframe to check if the class labels are assigned properly\n",
    "product_reviews[['docs', 'helpful_user', 'total_user', 'help_label']].head(10)"
   ]
  },
  {
   "cell_type": "markdown",
   "id": "981b71bd",
   "metadata": {},
   "source": [
    "A pipeline is setup with all the pre processing steps and the classifier model using the countVectorizer, TfidfTransformer and the linear SVM classifier.<br>\n",
    "The text pre processing steps are similar to that of the previous task"
   ]
  },
  {
   "cell_type": "code",
   "execution_count": 21,
   "id": "7e3a6705",
   "metadata": {},
   "outputs": [],
   "source": [
    "SVMPipeline = Pipeline([\n",
    "    ('vec', CountVectorizer(stop_words=\"english\", ngram_range=(1, 2), min_df=5)),\n",
    "    ('tfidf', TfidfTransformer()),\n",
    "    ('clf', SGDClassifier(loss='hinge'))\n",
    "])"
   ]
  },
  {
   "cell_type": "code",
   "execution_count": 22,
   "id": "7f7d76d6",
   "metadata": {},
   "outputs": [],
   "source": [
    "# Split the dataset into training and test sets along with the target labels\n",
    "data_train_t3, data_test_t3, target_train_t3, target_test_t3 = train_test_split(product_reviews['docs'], product_reviews[\"help_label\"], test_size=1/2)"
   ]
  },
  {
   "cell_type": "markdown",
   "id": "8af665ed",
   "metadata": {},
   "source": [
    "Fitting the pipeline with the train data and using the test data for the predictions using which the accuracy of the classifier can be determined"
   ]
  },
  {
   "cell_type": "code",
   "execution_count": 23,
   "id": "1a9fbd7f",
   "metadata": {},
   "outputs": [
    {
     "data": {
      "text/plain": [
       "Pipeline(steps=[('vec',\n",
       "                 CountVectorizer(min_df=5, ngram_range=(1, 2),\n",
       "                                 stop_words='english')),\n",
       "                ('tfidf', TfidfTransformer()), ('clf', SGDClassifier())])"
      ]
     },
     "execution_count": 23,
     "metadata": {},
     "output_type": "execute_result"
    }
   ],
   "source": [
    "SVMPipeline.fit(data_train_t3, target_train_t3)"
   ]
  },
  {
   "cell_type": "markdown",
   "id": "d2b76ddb",
   "metadata": {},
   "source": [
    "Evaluating the performance of the classifier using the hold out strategy"
   ]
  },
  {
   "cell_type": "code",
   "execution_count": 24,
   "id": "86bd8b69",
   "metadata": {},
   "outputs": [
    {
     "name": "stdout",
     "output_type": "stream",
     "text": [
      "Classification accuracy = 79.75\n"
     ]
    },
    {
     "data": {
      "image/png": "[encoded data removed]",
      "text/plain": [
       "<Figure size 432x288 with 2 Axes>"
      ]
     },
     "metadata": {
      "needs_background": "light"
     },
     "output_type": "display_data"
    }
   ],
   "source": [
    "predicted = SVMPipeline.predict(data_test_t3)\n",
    "print(\"Classification accuracy = %.2f\" % (accuracy_score(target_test_t3, predicted)*100))\n",
    "# calculate the confusion matrix\n",
    "cm = confusion_matrix(target_test_t3, predicted)\n",
    "# displaying the confusion matrix\n",
    "target_categories = [\"helpful\",\"unhelpful\"]\n",
    "cmd = ConfusionMatrixDisplay(cm, display_labels=target_categories)\n",
    "cmd.plot();"
   ]
  },
  {
   "cell_type": "markdown",
   "id": "1ef07ad2",
   "metadata": {},
   "source": [
    "It can be observed from the confusion matrix that the false positive rate is lesser than the false negative rate. So, the number of helpful reviews getting predicted as unhelpful is lesser than the unhelpful reviews getting predicted as helpful. The accuracy of the classifier is around 80% which illustrates that the classifier is able to classify most of the unseen reviews correctly."
   ]
  },
  {
   "cell_type": "markdown",
   "id": "40bece03",
   "metadata": {},
   "source": [
    "The classifier pipeline is evaluated using the 10 fold cross validation strategy to obtain the average accuracy of the classifier."
   ]
  },
  {
   "cell_type": "code",
   "execution_count": 25,
   "id": "d29e16ca",
   "metadata": {},
   "outputs": [
    {
     "name": "stdout",
     "output_type": "stream",
     "text": [
      "Linear Support Vector Machine (10 fold cross validation) accuracy: 82.54\n"
     ]
    }
   ],
   "source": [
    "# Running the Linear SVM Classifier pipeline with 10 fold cross validation\n",
    "acc_arr = cross_val_score(SVMPipeline, product_reviews['docs'], product_reviews[\"help_label\"], cv=10, n_jobs = -1)\n",
    "print(\"Linear Support Vector Machine (10 fold cross validation) accuracy: %.2f\" % ((sum(acc_arr)/len(acc_arr))*100))"
   ]
  },
  {
   "cell_type": "markdown",
   "id": "48e398d1",
   "metadata": {},
   "source": [
    "We set up a similar pipeline with all the similar pre processing steps with a KNN classifier with 3 nearest neighbors"
   ]
  },
  {
   "cell_type": "code",
   "execution_count": 26,
   "id": "d1467d3b",
   "metadata": {},
   "outputs": [],
   "source": [
    "KNNPipeline = Pipeline([\n",
    "    ('vec', CountVectorizer(stop_words=\"english\", ngram_range=(1, 2), min_df=5)),\n",
    "    ('tfidf', TfidfTransformer()),\n",
    "    ('clf', KNeighborsClassifier(n_neighbors=3))\n",
    "])"
   ]
  },
  {
   "cell_type": "markdown",
   "id": "d4af841f",
   "metadata": {},
   "source": [
    "We fit the KNN pipeline with the same train data, so we can compare the accuracy of the classifier when same data is used for training and testing the classifier"
   ]
  },
  {
   "cell_type": "code",
   "execution_count": 27,
   "id": "aaf7a9ab",
   "metadata": {},
   "outputs": [
    {
     "data": {
      "text/plain": [
       "Pipeline(steps=[('vec',\n",
       "                 CountVectorizer(min_df=5, ngram_range=(1, 2),\n",
       "                                 stop_words='english')),\n",
       "                ('tfidf', TfidfTransformer()),\n",
       "                ('clf', KNeighborsClassifier(n_neighbors=3))])"
      ]
     },
     "execution_count": 27,
     "metadata": {},
     "output_type": "execute_result"
    }
   ],
   "source": [
    "KNNPipeline.fit(data_train_t3, target_train_t3)"
   ]
  },
  {
   "cell_type": "markdown",
   "id": "509f9221",
   "metadata": {},
   "source": [
    "Evaluating the performance of the classifier using the hold out strategy"
   ]
  },
  {
   "cell_type": "code",
   "execution_count": 28,
   "id": "6cef1b64",
   "metadata": {},
   "outputs": [
    {
     "name": "stdout",
     "output_type": "stream",
     "text": [
      "Classification accuracy = 74.30\n"
     ]
    },
    {
     "data": {
      "image/png": "[encoded data removed]",
      "text/plain": [
       "<Figure size 432x288 with 2 Axes>"
      ]
     },
     "metadata": {
      "needs_background": "light"
     },
     "output_type": "display_data"
    }
   ],
   "source": [
    "predicted = KNNPipeline.predict(data_test_t3)\n",
    "print(\"Classification accuracy = %.2f\" % (accuracy_score(target_test_t3, predicted)*100))\n",
    "# calculate the confusion matrix\n",
    "cm = confusion_matrix(target_test_t3, predicted)\n",
    "# display the confusion matrix\n",
    "target_categories = [\"helpful\",\"unhelpful\"]\n",
    "cmd = ConfusionMatrixDisplay(cm, display_labels=target_categories)\n",
    "cmd.plot();"
   ]
  },
  {
   "cell_type": "markdown",
   "id": "f10d1f5d",
   "metadata": {},
   "source": [
    "It can be observed from the confusion matrix that the false positive rate is much lesser than the false negative rate. So, the number of helpful reviews getting predicted as unhelpful is lesser than the unhelpful reviews getting predicted as helpful. The accuracy of the classifier is around 75%."
   ]
  },
  {
   "cell_type": "markdown",
   "id": "39d46846",
   "metadata": {},
   "source": [
    "The classifier pipeline is evaluated using the 10 fold cross validation strategy to obtain the average accuracy of the classifier."
   ]
  },
  {
   "cell_type": "code",
   "execution_count": 29,
   "id": "5fcbd765",
   "metadata": {},
   "outputs": [
    {
     "name": "stdout",
     "output_type": "stream",
     "text": [
      "K-Nearest Neighbors(n=3)(10 fold cross validation) accuracy: 76.31\n"
     ]
    }
   ],
   "source": [
    "# Running the KNN Classifier pipeline with 10 fold cross validation\n",
    "acc_arr = cross_val_score(KNNPipeline, product_reviews['docs'], product_reviews[\"help_label\"], cv=10, n_jobs = -1)\n",
    "print(\"K-Nearest Neighbors(n=3)(10 fold cross validation) accuracy: %.2f\" % ((sum(acc_arr)/len(acc_arr))*100))"
   ]
  },
  {
   "cell_type": "markdown",
   "id": "ce6a150e",
   "metadata": {},
   "source": [
    "It can be observed from the above results that even in the helpfulness classification, the linear SVM classifier performs better than the KNN classifier.<br>\n",
    "The linear SVM classifer has an accuracy of around 82% and the KNN classifier has an accuracy of around 76% obtained from cross validation in both the cases.<br>\n",
    "Since, even this classification includes text classification and the text input data is a huge sparse matrix, as discussed before, the linear SVM classifier performs better with the huge sparse data."
   ]
  },
  {
   "cell_type": "markdown",
   "id": "4b8fc30c",
   "metadata": {},
   "source": [
    "Task 2 involved classification of the reviews into positive or negative reviews(sentiment classification) and Task 3 involved classification of the reviews into Helpful or Unhelpful categories.<br>\n",
    "The same classifiers were used in both the tasks to enable the comparison of the performance of the classifiers in various tasks.<br>\n",
    "The linear SVM classifier has an accuracy of around 89% in Task 2 and in Task 3 it has an accuracy of around 82%. The KNN classifier with 3 neighbors has an accuracy of around 75% in Task 2 and an accuracy of around 76% in Task 3.<br>\n",
    "It can be seen that the accuracy of classification is slightly higher for the SVM classifier in Task 2 when compared to Task 3 and in case of KNN classifier it is almost similar in both the cases.<br>\n",
    "In Task 2 as observed from the confusion matrix, the false positive rate is higher than the false negative rate but in case of Task 3, it is the other way round, where false negative rate is more than the false positive rate in both of the classifiers<br>\n",
    "Task 2 classifies the reviews into positive or negative. In general if a review is positive the review would consist of some common words such as best, good, nice, enjoyed and so on. In case the review is negative it would consist of some common words such as bad, horrible, devastated and so on. So, when we train the classifier for the sentiment classification some of these words would be present in all the reviews and accordingly the labels would be set for them which allows the classifier to be trained based on that. There can be cases where some of the reviews would have words such as not nice, not bad which is  a negate condition and hence some of these reviews would not be categorised properly by the classifier as it would be a little difficult to predict.But as a whole when the new unseen reviews are used for classification if similar words are there, the classifier can predict whether they are negative or positive more easily.<br>\n",
    "In case of Task 3 the reviews are classified into Helpful and Unhelpful. In this case there are no many common words to decide whether the review is helpful or unhelpful as a review which is positive might be helpful or a review which is negative also might be helpful for some users. It depends on the user who is reading the review, if the users feels it helped to make a decision then the review would be considered helpful otherwise it might be unhelpful for that user. So, there is a slight decrease in the performance of the classifiers for Task 3 when compared to Task 2.<br>\n",
    "But, in general the classifiers are able to classify majority of the reviews in both the tasks with the right labels and Linear SVM performs well with good accuracy in both the tasks.\n",
    "\n",
    "References :Scikit learn SVM classifier, SGDClassifier and KNN classifier pages."
   ]
  }
 ],
 "metadata": {
  "kernelspec": {
   "display_name": "Python 3",
   "language": "python",
   "name": "python3"
  },
  "language_info": {
   "codemirror_mode": {
    "name": "ipython",
    "version": 3
   },
   "file_extension": ".py",
   "mimetype": "text/x-python",
   "name": "python",
   "nbconvert_exporter": "python",
   "pygments_lexer": "ipython3",
   "version": "3.8.8"
  }
 },
 "nbformat": 4,
 "nbformat_minor": 5
}
